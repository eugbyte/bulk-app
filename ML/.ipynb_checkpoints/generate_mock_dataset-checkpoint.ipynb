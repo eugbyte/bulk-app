{
 "cells": [
  {
   "cell_type": "code",
   "execution_count": 1,
   "metadata": {},
   "outputs": [],
   "source": [
    "# The discountScheme class\n",
    "# If the num_bids > min_order_qnty\n",
    "\n",
    "class DiscountSchemeVM:\n",
    "    def __init__(\n",
    "                 self,\n",
    "        \n",
    "                 category=\"\", \n",
    "                 min_order_qnty=0, \n",
    "                 original_price=0, \n",
    "                 discounted_price=0, \n",
    "                 expiry_date=None, \n",
    "                 delivery_charge=0, \n",
    "                 num_bids = 0):\n",
    "        \n",
    "        # Independent variables\n",
    "        self.category = category\n",
    "        self.num_bids = num_bids\n",
    "        self.min_order_qnty = min_order_qnty\n",
    "        self.expiry_date = expiry_date\n",
    "        self.original_price = original_price\n",
    "        self.discounted_price = discounted_price        \n",
    "        self.delivery_charge = delivery_charge    \n",
    "        \n",
    "        # Whether the bid succeeded or not: PENDING, SUCCESS. FAILED\n",
    "        # If num_bids > min_order_qnty --> SUCCESS\n",
    "        # elif expiry_date > current_date --> PENDING (still have time to gather bids)\n",
    "        # elif expiry_date < current_date --> FAILED\n",
    "        # This is the dependent variable\n",
    "        self.status = None \n",
    "\n",
    "        \n",
    "    def to_dict(self):\n",
    "        return self.__dict__\n",
    "    \n",
    "    def __str__(self):\n",
    "        return str(self.to_dict())"
   ]
  },
  {
   "cell_type": "code",
   "execution_count": 2,
   "metadata": {},
   "outputs": [],
   "source": [
    "ds = DiscountSchemeVM()\n",
    "# print(ds.to_dict())"
   ]
  },
  {
   "cell_type": "code",
   "execution_count": 3,
   "metadata": {},
   "outputs": [],
   "source": [
    "from random import randrange\n",
    "from datetime import timedelta, datetime\n",
    "\n",
    "def random_date(start, end):\n",
    "    delta = end - start\n",
    "    int_delta = (delta.days * 24 * 60 * 60) + delta.seconds\n",
    "    random_second = randrange(int_delta)\n",
    "    random_date = start + timedelta(seconds=random_second)\n",
    "    return random_date\n",
    "\n",
    "start_date = datetime.strptime('1/1/2020', '%d/%m/%Y')\n",
    "end_date = datetime.strptime('31/12/2020', '%d/%m/%Y')"
   ]
  },
  {
   "cell_type": "code",
   "execution_count": 4,
   "metadata": {},
   "outputs": [],
   "source": [
    "# print(random_date(start_date, end_date))"
   ]
  },
  {
   "cell_type": "code",
   "execution_count": 5,
   "metadata": {},
   "outputs": [],
   "source": [
    "import enum\n",
    "# Using enum class create enumerations\n",
    "class Status:\n",
    "   SUCCESS = \"SUCCESS\"\n",
    "   PENDING = \"PENDING\"\n",
    "   FAILED = \"FAILED\""
   ]
  },
  {
   "cell_type": "code",
   "execution_count": 6,
   "metadata": {},
   "outputs": [],
   "source": [
    "from random import randrange\n",
    "import random\n",
    "\n",
    "start_date = datetime.strptime('1/1/2020', '%d/%m/%Y')\n",
    "end_date = datetime.strptime('31/12/2020', '%d/%m/%Y')\n",
    "\n",
    "def generate_random_discount_scheme(category, \n",
    "                                    number_of_items,\n",
    "                                    min_original_price, max_original_price, \n",
    "                                    start_date=start_date, end_date=end_date):\n",
    "    \n",
    "    discount_schemes = []    \n",
    "\n",
    "    for i in range(number_of_items):\n",
    "        min_order_qnty = random.randrange(1, number_of_items)\n",
    "        original_price = random.randrange(min_original_price, max_original_price)\n",
    "        discounted_price = random.randrange(min_original_price-1, max_original_price-1)\n",
    "\n",
    "        while discounted_price >= original_price:\n",
    "            discounted_price = random.randrange(min_original_price-1, max_original_price-1)\n",
    "\n",
    "        expiry_date = random_date(start_date, end_date)\n",
    "        delivery_charge = random.randrange(1, 20)\n",
    "        num_bids = random.randrange(1, 20)\n",
    "\n",
    "        discount_scheme = DiscountSchemeVM(category=category, \n",
    "                                           min_order_qnty=min_order_qnty, \n",
    "                                           original_price=original_price, discounted_price=discounted_price,\n",
    "                                           expiry_date=expiry_date, \n",
    "                                           delivery_charge=delivery_charge,\n",
    "                                           num_bids=num_bids)\n",
    "\n",
    "        # To determine and mock the status of the discount_scheme\n",
    "        if (discount_scheme.num_bids >= discount_scheme.min_order_qnty):\n",
    "            discount_scheme.status = str(Status.SUCCESS)\n",
    "        elif (discount_scheme.expiry_date > datetime.now()):\n",
    "            discount_scheme.status = str(Status.PENDING)\n",
    "        else:\n",
    "            discount_scheme.status = str(Status.FAILED)\n",
    "\n",
    "        discount_schemes.append(discount_scheme)\n",
    "    \n",
    "    return discount_schemes"
   ]
  },
  {
   "cell_type": "code",
   "execution_count": 7,
   "metadata": {},
   "outputs": [],
   "source": [
    "discount_schemes = generate_random_discount_scheme(\"shoe\", 20, 100, 200)"
   ]
  },
  {
   "cell_type": "code",
   "execution_count": 8,
   "metadata": {},
   "outputs": [],
   "source": [
    "# print(len(discount_schemes))"
   ]
  },
  {
   "cell_type": "code",
   "execution_count": 9,
   "metadata": {},
   "outputs": [],
   "source": [
    "for index, discount_scheme in enumerate(discount_schemes):\n",
    "    if index > 5:\n",
    "        break\n",
    "    # print(discount_scheme) "
   ]
  },
  {
   "cell_type": "code",
   "execution_count": 10,
   "metadata": {},
   "outputs": [],
   "source": [
    "shoe_discount_schemes = generate_random_discount_scheme(\"shoe\", 20, 100, 200)\n",
    "computer_discount_schemes = generate_random_discount_scheme(\"computer\", 20, 1000, 2000)\n",
    "camera_discount_schemes = generate_random_discount_scheme(\"camera\", 20, 500, 1000)\n",
    "shirt_discount_schemes = generate_random_discount_scheme(\"shirt\", 20, 50, 200)"
   ]
  },
  {
   "cell_type": "code",
   "execution_count": 11,
   "metadata": {},
   "outputs": [],
   "source": [
    "discount_schemes = [*shoe_discount_schemes, *computer_discount_schemes, *camera_discount_schemes, *shirt_discount_schemes]"
   ]
  },
  {
   "cell_type": "code",
   "execution_count": 12,
   "metadata": {},
   "outputs": [],
   "source": [
    "# print(len(discount_schemes))"
   ]
  },
  {
   "cell_type": "code",
   "execution_count": 13,
   "metadata": {},
   "outputs": [],
   "source": [
    "import pandas as pd"
   ]
  },
  {
   "cell_type": "code",
   "execution_count": 14,
   "metadata": {},
   "outputs": [],
   "source": [
    "def random_generate_df():\n",
    "    shoe_discount_schemes = generate_random_discount_scheme(\"shoe\", 20, 100, 200)\n",
    "    computer_discount_schemes = generate_random_discount_scheme(\"computer\", 20, 1000, 2000)\n",
    "    camera_discount_schemes = generate_random_discount_scheme(\"camera\", 20, 500, 1000)\n",
    "    shirt_discount_schemes = generate_random_discount_scheme(\"shirt\", 20, 50, 200)\n",
    "    \n",
    "    discount_schemes = [*shoe_discount_schemes, *computer_discount_schemes, *camera_discount_schemes, \n",
    "                        *shirt_discount_schemes]\n",
    "    \n",
    "    df = pd.DataFrame.from_records([ds.to_dict() for ds in discount_schemes])\n",
    "    return df"
   ]
  },
  {
   "cell_type": "code",
   "execution_count": 15,
   "metadata": {},
   "outputs": [],
   "source": [
    "df = random_generate_df()"
   ]
  },
  {
   "cell_type": "code",
   "execution_count": 16,
   "metadata": {},
   "outputs": [
    {
     "data": {
      "text/html": [
       "<div>\n",
       "<style scoped>\n",
       "    .dataframe tbody tr th:only-of-type {\n",
       "        vertical-align: middle;\n",
       "    }\n",
       "\n",
       "    .dataframe tbody tr th {\n",
       "        vertical-align: top;\n",
       "    }\n",
       "\n",
       "    .dataframe thead th {\n",
       "        text-align: right;\n",
       "    }\n",
       "</style>\n",
       "<table border=\"1\" class=\"dataframe\">\n",
       "  <thead>\n",
       "    <tr style=\"text-align: right;\">\n",
       "      <th></th>\n",
       "      <th>category</th>\n",
       "      <th>num_bids</th>\n",
       "      <th>min_order_qnty</th>\n",
       "      <th>expiry_date</th>\n",
       "      <th>original_price</th>\n",
       "      <th>discounted_price</th>\n",
       "      <th>delivery_charge</th>\n",
       "      <th>status</th>\n",
       "    </tr>\n",
       "  </thead>\n",
       "  <tbody>\n",
       "    <tr>\n",
       "      <th>0</th>\n",
       "      <td>shoe</td>\n",
       "      <td>12</td>\n",
       "      <td>16</td>\n",
       "      <td>2020-11-25 18:33:32</td>\n",
       "      <td>106</td>\n",
       "      <td>102</td>\n",
       "      <td>7</td>\n",
       "      <td>PENDING</td>\n",
       "    </tr>\n",
       "    <tr>\n",
       "      <th>1</th>\n",
       "      <td>shoe</td>\n",
       "      <td>10</td>\n",
       "      <td>15</td>\n",
       "      <td>2020-08-11 07:26:12</td>\n",
       "      <td>196</td>\n",
       "      <td>107</td>\n",
       "      <td>7</td>\n",
       "      <td>FAILED</td>\n",
       "    </tr>\n",
       "    <tr>\n",
       "      <th>2</th>\n",
       "      <td>shoe</td>\n",
       "      <td>10</td>\n",
       "      <td>18</td>\n",
       "      <td>2020-02-26 19:10:43</td>\n",
       "      <td>115</td>\n",
       "      <td>107</td>\n",
       "      <td>5</td>\n",
       "      <td>FAILED</td>\n",
       "    </tr>\n",
       "    <tr>\n",
       "      <th>3</th>\n",
       "      <td>shoe</td>\n",
       "      <td>8</td>\n",
       "      <td>6</td>\n",
       "      <td>2020-04-19 18:58:11</td>\n",
       "      <td>104</td>\n",
       "      <td>103</td>\n",
       "      <td>19</td>\n",
       "      <td>SUCCESS</td>\n",
       "    </tr>\n",
       "    <tr>\n",
       "      <th>4</th>\n",
       "      <td>shoe</td>\n",
       "      <td>17</td>\n",
       "      <td>16</td>\n",
       "      <td>2020-12-19 23:41:45</td>\n",
       "      <td>182</td>\n",
       "      <td>162</td>\n",
       "      <td>19</td>\n",
       "      <td>SUCCESS</td>\n",
       "    </tr>\n",
       "  </tbody>\n",
       "</table>\n",
       "</div>"
      ],
      "text/plain": [
       "  category  num_bids  min_order_qnty         expiry_date  original_price  \\\n",
       "0     shoe        12              16 2020-11-25 18:33:32             106   \n",
       "1     shoe        10              15 2020-08-11 07:26:12             196   \n",
       "2     shoe        10              18 2020-02-26 19:10:43             115   \n",
       "3     shoe         8               6 2020-04-19 18:58:11             104   \n",
       "4     shoe        17              16 2020-12-19 23:41:45             182   \n",
       "\n",
       "   discounted_price  delivery_charge   status  \n",
       "0               102                7  PENDING  \n",
       "1               107                7   FAILED  \n",
       "2               107                5   FAILED  \n",
       "3               103               19  SUCCESS  \n",
       "4               162               19  SUCCESS  "
      ]
     },
     "execution_count": 16,
     "metadata": {},
     "output_type": "execute_result"
    }
   ],
   "source": [
    "df.head()"
   ]
  },
  {
   "cell_type": "code",
   "execution_count": 17,
   "metadata": {},
   "outputs": [
    {
     "data": {
      "text/plain": [
       "(80, 8)"
      ]
     },
     "execution_count": 17,
     "metadata": {},
     "output_type": "execute_result"
    }
   ],
   "source": [
    "df.shape"
   ]
  },
  {
   "cell_type": "code",
   "execution_count": 18,
   "metadata": {},
   "outputs": [],
   "source": [
    "categories = ['shoe', 'computer', 'camera', 'shirt']"
   ]
  },
  {
   "cell_type": "code",
   "execution_count": 19,
   "metadata": {},
   "outputs": [
    {
     "data": {
      "text/html": [
       "<div>\n",
       "<style scoped>\n",
       "    .dataframe tbody tr th:only-of-type {\n",
       "        vertical-align: middle;\n",
       "    }\n",
       "\n",
       "    .dataframe tbody tr th {\n",
       "        vertical-align: top;\n",
       "    }\n",
       "\n",
       "    .dataframe thead th {\n",
       "        text-align: right;\n",
       "    }\n",
       "</style>\n",
       "<table border=\"1\" class=\"dataframe\">\n",
       "  <thead>\n",
       "    <tr style=\"text-align: right;\">\n",
       "      <th></th>\n",
       "      <th>category</th>\n",
       "      <th>num_bids</th>\n",
       "      <th>min_order_qnty</th>\n",
       "      <th>expiry_date</th>\n",
       "      <th>original_price</th>\n",
       "      <th>discounted_price</th>\n",
       "      <th>delivery_charge</th>\n",
       "      <th>status</th>\n",
       "    </tr>\n",
       "  </thead>\n",
       "  <tbody>\n",
       "    <tr>\n",
       "      <th>20</th>\n",
       "      <td>computer</td>\n",
       "      <td>5</td>\n",
       "      <td>12</td>\n",
       "      <td>2020-02-15 09:32:53</td>\n",
       "      <td>1004</td>\n",
       "      <td>1000</td>\n",
       "      <td>10</td>\n",
       "      <td>FAILED</td>\n",
       "    </tr>\n",
       "    <tr>\n",
       "      <th>21</th>\n",
       "      <td>computer</td>\n",
       "      <td>15</td>\n",
       "      <td>8</td>\n",
       "      <td>2020-09-11 22:52:38</td>\n",
       "      <td>1459</td>\n",
       "      <td>1122</td>\n",
       "      <td>2</td>\n",
       "      <td>SUCCESS</td>\n",
       "    </tr>\n",
       "    <tr>\n",
       "      <th>22</th>\n",
       "      <td>computer</td>\n",
       "      <td>1</td>\n",
       "      <td>13</td>\n",
       "      <td>2020-09-18 23:50:04</td>\n",
       "      <td>1472</td>\n",
       "      <td>1094</td>\n",
       "      <td>13</td>\n",
       "      <td>FAILED</td>\n",
       "    </tr>\n",
       "    <tr>\n",
       "      <th>23</th>\n",
       "      <td>computer</td>\n",
       "      <td>7</td>\n",
       "      <td>19</td>\n",
       "      <td>2020-06-19 07:21:30</td>\n",
       "      <td>1103</td>\n",
       "      <td>1059</td>\n",
       "      <td>18</td>\n",
       "      <td>FAILED</td>\n",
       "    </tr>\n",
       "    <tr>\n",
       "      <th>24</th>\n",
       "      <td>computer</td>\n",
       "      <td>16</td>\n",
       "      <td>12</td>\n",
       "      <td>2020-07-15 17:34:32</td>\n",
       "      <td>1709</td>\n",
       "      <td>1455</td>\n",
       "      <td>9</td>\n",
       "      <td>SUCCESS</td>\n",
       "    </tr>\n",
       "  </tbody>\n",
       "</table>\n",
       "</div>"
      ],
      "text/plain": [
       "    category  num_bids  min_order_qnty         expiry_date  original_price  \\\n",
       "20  computer         5              12 2020-02-15 09:32:53            1004   \n",
       "21  computer        15               8 2020-09-11 22:52:38            1459   \n",
       "22  computer         1              13 2020-09-18 23:50:04            1472   \n",
       "23  computer         7              19 2020-06-19 07:21:30            1103   \n",
       "24  computer        16              12 2020-07-15 17:34:32            1709   \n",
       "\n",
       "    discounted_price  delivery_charge   status  \n",
       "20              1000               10   FAILED  \n",
       "21              1122                2  SUCCESS  \n",
       "22              1094               13   FAILED  \n",
       "23              1059               18   FAILED  \n",
       "24              1455                9  SUCCESS  "
      ]
     },
     "execution_count": 19,
     "metadata": {},
     "output_type": "execute_result"
    }
   ],
   "source": [
    "df_selected_category = df[df['category'] == categories[1]]\n",
    "df_selected_category.head()"
   ]
  },
  {
   "cell_type": "code",
   "execution_count": 20,
   "metadata": {},
   "outputs": [
    {
     "data": {
      "text/plain": [
       "(20, 8)"
      ]
     },
     "execution_count": 20,
     "metadata": {},
     "output_type": "execute_result"
    }
   ],
   "source": [
    "df_selected_category.shape"
   ]
  },
  {
   "cell_type": "code",
   "execution_count": null,
   "metadata": {},
   "outputs": [],
   "source": []
  }
 ],
 "metadata": {
  "kernelspec": {
   "display_name": "Python 3",
   "language": "python",
   "name": "python3"
  },
  "language_info": {
   "codemirror_mode": {
    "name": "ipython",
    "version": 3
   },
   "file_extension": ".py",
   "mimetype": "text/x-python",
   "name": "python",
   "nbconvert_exporter": "python",
   "pygments_lexer": "ipython3",
   "version": "3.7.6"
  }
 },
 "nbformat": 4,
 "nbformat_minor": 4
}
