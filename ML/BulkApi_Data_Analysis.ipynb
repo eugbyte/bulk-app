{
 "cells": [
  {
   "cell_type": "code",
   "execution_count": 1,
   "metadata": {},
   "outputs": [],
   "source": [
    "import generate_mock_dataset as mock\n",
    "import pandas as pd"
   ]
  },
  {
   "cell_type": "markdown",
   "metadata": {},
   "source": [
    "### General Info of dataset\n",
    "1. The dependent variable is the status of the discount scheme (\"scheme\") - FAILED, PENDING, SUCCESS.\n",
    "  * We focus on supervised learning for now\n",
    "2. Whether a scheme succeeds or not is based on whether the number of bids (\"num_bids\") meets the minimum order quantity (\"min_order_qnty\") by the expiry date (\"expiry_date\"). \n",
    "  * This logic has already been taken care of, so it just nice to know\n",
    "3. The mock dataset has 80 schemes. \n",
    "4. There are 4 categories of products - shoe, computer, camera. Each categories has got 20 schemes each \n",
    "5. The data are randomized everytime you call random_generate_df(). The status of the scheme is based of the randomized num_bids, min_order_qnty, and expiry_date."
   ]
  },
  {
   "cell_type": "code",
   "execution_count": 2,
   "metadata": {},
   "outputs": [],
   "source": [
    "df = mock.random_generate_df()"
   ]
  },
  {
   "cell_type": "code",
   "execution_count": 3,
   "metadata": {},
   "outputs": [
    {
     "data": {
      "text/html": [
       "<div>\n",
       "<style scoped>\n",
       "    .dataframe tbody tr th:only-of-type {\n",
       "        vertical-align: middle;\n",
       "    }\n",
       "\n",
       "    .dataframe tbody tr th {\n",
       "        vertical-align: top;\n",
       "    }\n",
       "\n",
       "    .dataframe thead th {\n",
       "        text-align: right;\n",
       "    }\n",
       "</style>\n",
       "<table border=\"1\" class=\"dataframe\">\n",
       "  <thead>\n",
       "    <tr style=\"text-align: right;\">\n",
       "      <th></th>\n",
       "      <th>category</th>\n",
       "      <th>num_bids</th>\n",
       "      <th>min_order_qnty</th>\n",
       "      <th>expiry_date</th>\n",
       "      <th>original_price</th>\n",
       "      <th>discounted_price</th>\n",
       "      <th>delivery_charge</th>\n",
       "      <th>status</th>\n",
       "    </tr>\n",
       "  </thead>\n",
       "  <tbody>\n",
       "    <tr>\n",
       "      <th>0</th>\n",
       "      <td>shoe</td>\n",
       "      <td>12</td>\n",
       "      <td>4</td>\n",
       "      <td>2020-11-24 02:56:55</td>\n",
       "      <td>150</td>\n",
       "      <td>104</td>\n",
       "      <td>14</td>\n",
       "      <td>SUCCESS</td>\n",
       "    </tr>\n",
       "    <tr>\n",
       "      <th>1</th>\n",
       "      <td>shoe</td>\n",
       "      <td>19</td>\n",
       "      <td>13</td>\n",
       "      <td>2020-07-30 11:31:09</td>\n",
       "      <td>186</td>\n",
       "      <td>161</td>\n",
       "      <td>11</td>\n",
       "      <td>SUCCESS</td>\n",
       "    </tr>\n",
       "    <tr>\n",
       "      <th>2</th>\n",
       "      <td>shoe</td>\n",
       "      <td>13</td>\n",
       "      <td>3</td>\n",
       "      <td>2020-09-02 15:03:11</td>\n",
       "      <td>191</td>\n",
       "      <td>100</td>\n",
       "      <td>18</td>\n",
       "      <td>SUCCESS</td>\n",
       "    </tr>\n",
       "    <tr>\n",
       "      <th>3</th>\n",
       "      <td>shoe</td>\n",
       "      <td>12</td>\n",
       "      <td>11</td>\n",
       "      <td>2020-09-29 12:58:16</td>\n",
       "      <td>145</td>\n",
       "      <td>113</td>\n",
       "      <td>7</td>\n",
       "      <td>SUCCESS</td>\n",
       "    </tr>\n",
       "    <tr>\n",
       "      <th>4</th>\n",
       "      <td>shoe</td>\n",
       "      <td>18</td>\n",
       "      <td>9</td>\n",
       "      <td>2020-07-23 17:12:44</td>\n",
       "      <td>197</td>\n",
       "      <td>106</td>\n",
       "      <td>9</td>\n",
       "      <td>SUCCESS</td>\n",
       "    </tr>\n",
       "  </tbody>\n",
       "</table>\n",
       "</div>"
      ],
      "text/plain": [
       "  category  num_bids  min_order_qnty         expiry_date  original_price  \\\n",
       "0     shoe        12               4 2020-11-24 02:56:55             150   \n",
       "1     shoe        19              13 2020-07-30 11:31:09             186   \n",
       "2     shoe        13               3 2020-09-02 15:03:11             191   \n",
       "3     shoe        12              11 2020-09-29 12:58:16             145   \n",
       "4     shoe        18               9 2020-07-23 17:12:44             197   \n",
       "\n",
       "   discounted_price  delivery_charge   status  \n",
       "0               104               14  SUCCESS  \n",
       "1               161               11  SUCCESS  \n",
       "2               100               18  SUCCESS  \n",
       "3               113                7  SUCCESS  \n",
       "4               106                9  SUCCESS  "
      ]
     },
     "execution_count": 3,
     "metadata": {},
     "output_type": "execute_result"
    }
   ],
   "source": [
    "df.head()"
   ]
  },
  {
   "cell_type": "code",
   "execution_count": 4,
   "metadata": {},
   "outputs": [
    {
     "data": {
      "text/plain": [
       "(80, 8)"
      ]
     },
     "execution_count": 4,
     "metadata": {},
     "output_type": "execute_result"
    }
   ],
   "source": [
    "df.shape"
   ]
  },
  {
   "cell_type": "code",
   "execution_count": null,
   "metadata": {},
   "outputs": [],
   "source": [
    "# if you want the data set to be constant instead of randomized each time you rerun jupyter notebook,\n",
    "# you can export the df as csv, and then read from that csv"
   ]
  },
  {
   "cell_type": "code",
   "execution_count": 5,
   "metadata": {},
   "outputs": [
    {
     "name": "stdout",
     "output_type": "stream",
     "text": [
      "['shoe', 'computer', 'camera', 'shirt']\n"
     ]
    }
   ],
   "source": [
    "product_categories = mock.categories\n",
    "print(product_categories)"
   ]
  },
  {
   "cell_type": "code",
   "execution_count": 6,
   "metadata": {},
   "outputs": [],
   "source": [
    "product_category = product_categories[1]  # try with a different product_category\n",
    "df_selected_category = df[df['category'] == product_category]"
   ]
  },
  {
   "cell_type": "code",
   "execution_count": 7,
   "metadata": {},
   "outputs": [
    {
     "data": {
      "text/html": [
       "<div>\n",
       "<style scoped>\n",
       "    .dataframe tbody tr th:only-of-type {\n",
       "        vertical-align: middle;\n",
       "    }\n",
       "\n",
       "    .dataframe tbody tr th {\n",
       "        vertical-align: top;\n",
       "    }\n",
       "\n",
       "    .dataframe thead th {\n",
       "        text-align: right;\n",
       "    }\n",
       "</style>\n",
       "<table border=\"1\" class=\"dataframe\">\n",
       "  <thead>\n",
       "    <tr style=\"text-align: right;\">\n",
       "      <th></th>\n",
       "      <th>category</th>\n",
       "      <th>num_bids</th>\n",
       "      <th>min_order_qnty</th>\n",
       "      <th>expiry_date</th>\n",
       "      <th>original_price</th>\n",
       "      <th>discounted_price</th>\n",
       "      <th>delivery_charge</th>\n",
       "      <th>status</th>\n",
       "    </tr>\n",
       "  </thead>\n",
       "  <tbody>\n",
       "    <tr>\n",
       "      <th>20</th>\n",
       "      <td>computer</td>\n",
       "      <td>4</td>\n",
       "      <td>15</td>\n",
       "      <td>2020-03-22 19:09:50</td>\n",
       "      <td>1322</td>\n",
       "      <td>1147</td>\n",
       "      <td>13</td>\n",
       "      <td>FAILED</td>\n",
       "    </tr>\n",
       "    <tr>\n",
       "      <th>21</th>\n",
       "      <td>computer</td>\n",
       "      <td>1</td>\n",
       "      <td>4</td>\n",
       "      <td>2020-03-12 15:21:12</td>\n",
       "      <td>1048</td>\n",
       "      <td>1013</td>\n",
       "      <td>13</td>\n",
       "      <td>FAILED</td>\n",
       "    </tr>\n",
       "    <tr>\n",
       "      <th>22</th>\n",
       "      <td>computer</td>\n",
       "      <td>4</td>\n",
       "      <td>16</td>\n",
       "      <td>2020-07-22 19:40:38</td>\n",
       "      <td>1873</td>\n",
       "      <td>1782</td>\n",
       "      <td>12</td>\n",
       "      <td>FAILED</td>\n",
       "    </tr>\n",
       "    <tr>\n",
       "      <th>23</th>\n",
       "      <td>computer</td>\n",
       "      <td>4</td>\n",
       "      <td>17</td>\n",
       "      <td>2020-09-14 05:29:48</td>\n",
       "      <td>1220</td>\n",
       "      <td>1171</td>\n",
       "      <td>19</td>\n",
       "      <td>FAILED</td>\n",
       "    </tr>\n",
       "    <tr>\n",
       "      <th>24</th>\n",
       "      <td>computer</td>\n",
       "      <td>4</td>\n",
       "      <td>16</td>\n",
       "      <td>2020-04-01 19:50:01</td>\n",
       "      <td>1572</td>\n",
       "      <td>1362</td>\n",
       "      <td>2</td>\n",
       "      <td>FAILED</td>\n",
       "    </tr>\n",
       "  </tbody>\n",
       "</table>\n",
       "</div>"
      ],
      "text/plain": [
       "    category  num_bids  min_order_qnty         expiry_date  original_price  \\\n",
       "20  computer         4              15 2020-03-22 19:09:50            1322   \n",
       "21  computer         1               4 2020-03-12 15:21:12            1048   \n",
       "22  computer         4              16 2020-07-22 19:40:38            1873   \n",
       "23  computer         4              17 2020-09-14 05:29:48            1220   \n",
       "24  computer         4              16 2020-04-01 19:50:01            1572   \n",
       "\n",
       "    discounted_price  delivery_charge  status  \n",
       "20              1147               13  FAILED  \n",
       "21              1013               13  FAILED  \n",
       "22              1782               12  FAILED  \n",
       "23              1171               19  FAILED  \n",
       "24              1362                2  FAILED  "
      ]
     },
     "execution_count": 7,
     "metadata": {},
     "output_type": "execute_result"
    }
   ],
   "source": [
    "df_selected_category.head()"
   ]
  },
  {
   "cell_type": "code",
   "execution_count": 8,
   "metadata": {},
   "outputs": [
    {
     "data": {
      "text/plain": [
       "(20, 8)"
      ]
     },
     "execution_count": 8,
     "metadata": {},
     "output_type": "execute_result"
    }
   ],
   "source": [
    "df_selected_category.shape"
   ]
  },
  {
   "cell_type": "markdown",
   "metadata": {},
   "source": [
    "### User Stories / Tasks\n",
    "1. As a vendor, I want to know how the minimum discount I should give for my category of good, so that my scheme can succeed\n",
    "2. As a vendor, I want to know the relationship between the expiry_date, discount, and the min_order_qnty, so that I know how to adjust these variables for my scheme to succeed\n",
    "3. How the amount of delivery charge affects the success of the scheme"
   ]
  },
  {
   "cell_type": "code",
   "execution_count": 9,
   "metadata": {},
   "outputs": [],
   "source": [
    "# Happy coding!"
   ]
  }
 ],
 "metadata": {
  "kernelspec": {
   "display_name": "Python 3",
   "language": "python",
   "name": "python3"
  },
  "language_info": {
   "codemirror_mode": {
    "name": "ipython",
    "version": 3
   },
   "file_extension": ".py",
   "mimetype": "text/x-python",
   "name": "python",
   "nbconvert_exporter": "python",
   "pygments_lexer": "ipython3",
   "version": "3.7.6"
  }
 },
 "nbformat": 4,
 "nbformat_minor": 4
}
